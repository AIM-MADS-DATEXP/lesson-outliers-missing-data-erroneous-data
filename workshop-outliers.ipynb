{
 "cells": [
  {
   "cell_type": "markdown",
   "id": "8de0e682",
   "metadata": {},
   "source": [
    "# Workshop Outliers\n",
    "\n",
    "In this brief workshop you will examine a data set and check it for outliers."
   ]
  },
  {
   "cell_type": "code",
   "execution_count": null,
   "id": "26d29961",
   "metadata": {},
   "outputs": [],
   "source": [
    "# imports\n",
    "import numpy as np\n",
    "import matplotlib.pyplot as plt\n",
    "import pandas as pd\n",
    "import scipy.stats as st\n",
    "import statsmodels.api as sm\n",
    "from sklearn.linear_model import LinearRegression\n"
   ]
  },
  {
   "cell_type": "code",
   "execution_count": null,
   "id": "ae89af79",
   "metadata": {},
   "outputs": [],
   "source": [
    "# Read in marketing data\n",
    "df = pd.read_csv(\"data/marketing_AB.csv\", index_col=0)\n",
    "df"
   ]
  },
  {
   "cell_type": "markdown",
   "id": "17792697",
   "metadata": {},
   "source": [
    "## 1. Detecting outliers and deciding what to do with them\n",
    "\n",
    "Check the distribution of the numeric variables. Do the variables contain values that are flagged as outliers? Can you remove these outliers? Why (not)?"
   ]
  },
  {
   "cell_type": "code",
   "execution_count": null,
   "id": "f2361d5c",
   "metadata": {},
   "outputs": [],
   "source": [
    "# Your code goes here\n",
    "df['total ads'].std()"
   ]
  },
  {
   "cell_type": "markdown",
   "id": "cc6c7510",
   "metadata": {},
   "source": [
    "## 2. Turning non-normal distributions into normal distributions\n",
    "\n",
    "There are many possible reasons why values in a distribution are flagged as outliers. Many of them boil down to the fact that most algorithms for deciding which values are outliers make use of the assumption that the distribution is normal. If it isn't, many values will be flagged as outliers even though they are not.\n",
    "\n",
    "A simple case is when the distribution is log normal instead of normal. This case is \"simple\" because you can easily turn a log normal distribution into a normal distribution simply by taking the log of the values.\n",
    "\n",
    "Below you see what a log normal distribution looks like.\n",
    "\n",
    "Apply a log function to one of the variables in the data set and check if this causes the number of values flagged as outliers to go down."
   ]
  },
  {
   "cell_type": "code",
   "execution_count": null,
   "id": "d5a3bf97",
   "metadata": {},
   "outputs": [],
   "source": [
    "# Show a graph for a log normal distribution PDF\n",
    "from scipy.stats import lognorm\n",
    "mu = 0\n",
    "sigma = 1\n",
    "x = np.linspace(0, 10, 1000)\n",
    "pdf = lognorm.pdf(x, s=sigma, scale=np.exp(mu))\n",
    "plt.plot(x, pdf, 'r', linewidth=2)\n",
    "plt.title('Log-Normal distribution shape')\n",
    "plt.show()"
   ]
  },
  {
   "cell_type": "code",
   "execution_count": null,
   "id": "81a0860e",
   "metadata": {},
   "outputs": [],
   "source": [
    "# To apply a log function to a series: logdata = df['column'].apply(lambda x : np.log(x))\n",
    "\n",
    "# Your code goes here\n"
   ]
  },
  {
   "cell_type": "markdown",
   "id": "d88878f4",
   "metadata": {},
   "source": [
    "What did you find? Did applying a log function to the values cause fewer values to be flagged as outliers?\n",
    "\n",
    "Is applying a log function to data a valid operation? Why (not)?"
   ]
  }
 ],
 "metadata": {
  "kernelspec": {
   "display_name": ".venv",
   "language": "python",
   "name": "python3"
  },
  "language_info": {
   "codemirror_mode": {
    "name": "ipython",
    "version": 3
   },
   "file_extension": ".py",
   "mimetype": "text/x-python",
   "name": "python",
   "nbconvert_exporter": "python",
   "pygments_lexer": "ipython3",
   "version": "3.13.3"
  }
 },
 "nbformat": 4,
 "nbformat_minor": 5
}
