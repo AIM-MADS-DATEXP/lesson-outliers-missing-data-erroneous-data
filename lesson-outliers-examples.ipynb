{
 "cells": [
  {
   "cell_type": "markdown",
   "id": "5428c130",
   "metadata": {},
   "source": [
    "# Lecture Outliers, Missing Data and Erroneous Data: Examples"
   ]
  },
  {
   "cell_type": "code",
   "execution_count": 48,
   "id": "c9a22c9b",
   "metadata": {},
   "outputs": [],
   "source": [
    "import scipy.stats as st\n",
    "import numpy as np\n",
    "import matplotlib.pyplot as plt\n",
    "import pandas as pd"
   ]
  },
  {
   "cell_type": "markdown",
   "id": "48879948",
   "metadata": {},
   "source": [
    "## Example 1: What is an outlier anyway?\n",
    "\n",
    "What is an outlier anyway? Suppose we have a list of numbers from 1 to 10 and we add a number of fives to this list. If we draw a box plot of the resulting list, the values at the edges of the list will be flagged as outliers if the number of fives get large enough. When does this happen?"
   ]
  },
  {
   "cell_type": "code",
   "execution_count": 47,
   "id": "1fdb9c54",
   "metadata": {},
   "outputs": [
    {
     "data": {
      "image/png": "[encoded data removed]",
      "text/plain": [
       "<Figure size 640x480 with 1 Axes>"
      ]
     },
     "metadata": {},
     "output_type": "display_data"
    }
   ],
   "source": [
    "num_fives = 3 # Play around with this value to make outliers appear and disappear.\n",
    "fives = [5] * num_fives\n",
    "values = list(range(1, 10)) + fives\n",
    "values.sort() # This gives us a nicer title, nothing more.\n",
    "plt.boxplot(values, showfliers=True)\n",
    "plt.title(values)\n",
    "plt.show()\n",
    "\n",
    "\n"
   ]
  },
  {
   "cell_type": "markdown",
   "id": "e6cad399",
   "metadata": {},
   "source": [
    "## Example 2: Missing Values"
   ]
  },
  {
   "cell_type": "code",
   "execution_count": 60,
   "id": "a2ea8f16",
   "metadata": {},
   "outputs": [
    {
     "data": {
      "text/html": [
       "<div>\n",
       "<style scoped>\n",
       "    .dataframe tbody tr th:only-of-type {\n",
       "        vertical-align: middle;\n",
       "    }\n",
       "\n",
       "    .dataframe tbody tr th {\n",
       "        vertical-align: top;\n",
       "    }\n",
       "\n",
       "    .dataframe thead th {\n",
       "        text-align: right;\n",
       "    }\n",
       "</style>\n",
       "<table border=\"1\" class=\"dataframe\">\n",
       "  <thead>\n",
       "    <tr style=\"text-align: right;\">\n",
       "      <th></th>\n",
       "      <th>PassengerId</th>\n",
       "      <th>Survived</th>\n",
       "      <th>Pclass</th>\n",
       "      <th>Name</th>\n",
       "      <th>Sex</th>\n",
       "      <th>Age</th>\n",
       "      <th>SibSp</th>\n",
       "      <th>Parch</th>\n",
       "      <th>Ticket</th>\n",
       "      <th>Fare</th>\n",
       "      <th>Cabin</th>\n",
       "      <th>Embarked</th>\n",
       "    </tr>\n",
       "  </thead>\n",
       "  <tbody>\n",
       "    <tr>\n",
       "      <th>0</th>\n",
       "      <td>263</td>\n",
       "      <td>0</td>\n",
       "      <td>1</td>\n",
       "      <td>Taussig, Mr. Emil</td>\n",
       "      <td>male</td>\n",
       "      <td>52.0</td>\n",
       "      <td>1</td>\n",
       "      <td>1</td>\n",
       "      <td>110413</td>\n",
       "      <td>79.6500</td>\n",
       "      <td>E67</td>\n",
       "      <td>S</td>\n",
       "    </tr>\n",
       "    <tr>\n",
       "      <th>1</th>\n",
       "      <td>824</td>\n",
       "      <td>1</td>\n",
       "      <td>3</td>\n",
       "      <td>Moor, Mrs. (Beila)</td>\n",
       "      <td>female</td>\n",
       "      <td>27.0</td>\n",
       "      <td>0</td>\n",
       "      <td>1</td>\n",
       "      <td>392096</td>\n",
       "      <td>12.4750</td>\n",
       "      <td>E121</td>\n",
       "      <td>S</td>\n",
       "    </tr>\n",
       "    <tr>\n",
       "      <th>2</th>\n",
       "      <td>564</td>\n",
       "      <td>0</td>\n",
       "      <td>3</td>\n",
       "      <td>Simmons, Mr. John</td>\n",
       "      <td>male</td>\n",
       "      <td>NaN</td>\n",
       "      <td>0</td>\n",
       "      <td>0</td>\n",
       "      <td>SOTON/OQ 392082</td>\n",
       "      <td>8.0500</td>\n",
       "      <td>NaN</td>\n",
       "      <td>S</td>\n",
       "    </tr>\n",
       "    <tr>\n",
       "      <th>3</th>\n",
       "      <td>647</td>\n",
       "      <td>0</td>\n",
       "      <td>3</td>\n",
       "      <td>Cor, Mr. Liudevit</td>\n",
       "      <td>male</td>\n",
       "      <td>19.0</td>\n",
       "      <td>0</td>\n",
       "      <td>0</td>\n",
       "      <td>349231</td>\n",
       "      <td>7.8958</td>\n",
       "      <td>NaN</td>\n",
       "      <td>S</td>\n",
       "    </tr>\n",
       "    <tr>\n",
       "      <th>4</th>\n",
       "      <td>523</td>\n",
       "      <td>0</td>\n",
       "      <td>3</td>\n",
       "      <td>Lahoud, Mr. Sarkis</td>\n",
       "      <td>male</td>\n",
       "      <td>NaN</td>\n",
       "      <td>0</td>\n",
       "      <td>0</td>\n",
       "      <td>2624</td>\n",
       "      <td>7.2250</td>\n",
       "      <td>NaN</td>\n",
       "      <td>C</td>\n",
       "    </tr>\n",
       "    <tr>\n",
       "      <th>...</th>\n",
       "      <td>...</td>\n",
       "      <td>...</td>\n",
       "      <td>...</td>\n",
       "      <td>...</td>\n",
       "      <td>...</td>\n",
       "      <td>...</td>\n",
       "      <td>...</td>\n",
       "      <td>...</td>\n",
       "      <td>...</td>\n",
       "      <td>...</td>\n",
       "      <td>...</td>\n",
       "      <td>...</td>\n",
       "    </tr>\n",
       "    <tr>\n",
       "      <th>886</th>\n",
       "      <td>593</td>\n",
       "      <td>0</td>\n",
       "      <td>3</td>\n",
       "      <td>Elsbury, Mr. William James</td>\n",
       "      <td>male</td>\n",
       "      <td>47.0</td>\n",
       "      <td>0</td>\n",
       "      <td>0</td>\n",
       "      <td>A/5 3902</td>\n",
       "      <td>7.2500</td>\n",
       "      <td>NaN</td>\n",
       "      <td>S</td>\n",
       "    </tr>\n",
       "    <tr>\n",
       "      <th>887</th>\n",
       "      <td>351</td>\n",
       "      <td>0</td>\n",
       "      <td>3</td>\n",
       "      <td>Odahl, Mr. Nils Martin</td>\n",
       "      <td>male</td>\n",
       "      <td>23.0</td>\n",
       "      <td>0</td>\n",
       "      <td>0</td>\n",
       "      <td>7267</td>\n",
       "      <td>9.2250</td>\n",
       "      <td>NaN</td>\n",
       "      <td>S</td>\n",
       "    </tr>\n",
       "    <tr>\n",
       "      <th>888</th>\n",
       "      <td>326</td>\n",
       "      <td>1</td>\n",
       "      <td>1</td>\n",
       "      <td>Young, Miss. Marie Grice</td>\n",
       "      <td>female</td>\n",
       "      <td>36.0</td>\n",
       "      <td>0</td>\n",
       "      <td>0</td>\n",
       "      <td>PC 17760</td>\n",
       "      <td>135.6333</td>\n",
       "      <td>C32</td>\n",
       "      <td>C</td>\n",
       "    </tr>\n",
       "    <tr>\n",
       "      <th>889</th>\n",
       "      <td>680</td>\n",
       "      <td>1</td>\n",
       "      <td>1</td>\n",
       "      <td>Cardeza, Mr. Thomas Drake Martinez</td>\n",
       "      <td>male</td>\n",
       "      <td>36.0</td>\n",
       "      <td>0</td>\n",
       "      <td>1</td>\n",
       "      <td>PC 17755</td>\n",
       "      <td>512.3292</td>\n",
       "      <td>B51 B53 B55</td>\n",
       "      <td>C</td>\n",
       "    </tr>\n",
       "    <tr>\n",
       "      <th>890</th>\n",
       "      <td>568</td>\n",
       "      <td>0</td>\n",
       "      <td>3</td>\n",
       "      <td>Palsson, Mrs. Nils (Alma Cornelia Berglund)</td>\n",
       "      <td>female</td>\n",
       "      <td>29.0</td>\n",
       "      <td>0</td>\n",
       "      <td>4</td>\n",
       "      <td>349909</td>\n",
       "      <td>21.0750</td>\n",
       "      <td>NaN</td>\n",
       "      <td>S</td>\n",
       "    </tr>\n",
       "  </tbody>\n",
       "</table>\n",
       "<p>891 rows × 12 columns</p>\n",
       "</div>"
      ],
      "text/plain": [
       "     PassengerId  Survived  Pclass  \\\n",
       "0            263         0       1   \n",
       "1            824         1       3   \n",
       "2            564         0       3   \n",
       "3            647         0       3   \n",
       "4            523         0       3   \n",
       "..           ...       ...     ...   \n",
       "886          593         0       3   \n",
       "887          351         0       3   \n",
       "888          326         1       1   \n",
       "889          680         1       1   \n",
       "890          568         0       3   \n",
       "\n",
       "                                            Name     Sex   Age  SibSp  Parch  \\\n",
       "0                              Taussig, Mr. Emil    male  52.0      1      1   \n",
       "1                             Moor, Mrs. (Beila)  female  27.0      0      1   \n",
       "2                              Simmons, Mr. John    male   NaN      0      0   \n",
       "3                              Cor, Mr. Liudevit    male  19.0      0      0   \n",
       "4                             Lahoud, Mr. Sarkis    male   NaN      0      0   \n",
       "..                                           ...     ...   ...    ...    ...   \n",
       "886                   Elsbury, Mr. William James    male  47.0      0      0   \n",
       "887                       Odahl, Mr. Nils Martin    male  23.0      0      0   \n",
       "888                     Young, Miss. Marie Grice  female  36.0      0      0   \n",
       "889           Cardeza, Mr. Thomas Drake Martinez    male  36.0      0      1   \n",
       "890  Palsson, Mrs. Nils (Alma Cornelia Berglund)  female  29.0      0      4   \n",
       "\n",
       "              Ticket      Fare        Cabin Embarked  \n",
       "0             110413   79.6500          E67        S  \n",
       "1             392096   12.4750         E121        S  \n",
       "2    SOTON/OQ 392082    8.0500          NaN        S  \n",
       "3             349231    7.8958          NaN        S  \n",
       "4               2624    7.2250          NaN        C  \n",
       "..               ...       ...          ...      ...  \n",
       "886         A/5 3902    7.2500          NaN        S  \n",
       "887             7267    9.2250          NaN        S  \n",
       "888         PC 17760  135.6333          C32        C  \n",
       "889         PC 17755  512.3292  B51 B53 B55        C  \n",
       "890           349909   21.0750          NaN        S  \n",
       "\n",
       "[891 rows x 12 columns]"
      ]
     },
     "execution_count": 60,
     "metadata": {},
     "output_type": "execute_result"
    }
   ],
   "source": [
    "dft = pd.read_csv(\"data/titanic_processed_dedup.csv\")\n",
    "dft\n"
   ]
  },
  {
   "cell_type": "markdown",
   "id": "b35b5773",
   "metadata": {},
   "source": [
    "Check which columns have missing values. Which of these missing values are MCAR: Missing Completely At Random? Which are MAR: Missing At Random? Which are MNAR: Missing Not At Random?"
   ]
  },
  {
   "cell_type": "code",
   "execution_count": 62,
   "id": "4ab21c54",
   "metadata": {},
   "outputs": [
    {
     "name": "stdout",
     "output_type": "stream",
     "text": [
      "Column Age          has  176 NaN values\n",
      "Column Cabin        has  687 NaN values\n",
      "Column Embarked     has    2 NaN values\n"
     ]
    }
   ],
   "source": [
    "for col in dft.columns:\n",
    "    if dft[col].isna().sum() < 1:\n",
    "        continue\n",
    "    print(f'Column {col: <12} has {dft[col].isna().sum(): 4d} NaN values')"
   ]
  },
  {
   "cell_type": "markdown",
   "id": "65a00e93",
   "metadata": {},
   "source": [
    "## Example 3: Imputation\n",
    "\n",
    "See https://github.com/mcdejonge/workshop-data-preparation/ . This workshop contains an entire section on imputation.\n",
    "\n",
    "This example is copied from that workshop.\n",
    "\n",
    "It shows you what happens if you impute missing values in the Age column"
   ]
  },
  {
   "cell_type": "markdown",
   "id": "97e580eb",
   "metadata": {},
   "source": [
    "First, look at the distribution of the Age variable with no missing values imputed."
   ]
  },
  {
   "cell_type": "code",
   "execution_count": 63,
   "id": "16959649",
   "metadata": {},
   "outputs": [
    {
     "data": {
      "image/png": "[encoded data removed]",
      "text/plain": [
       "<Figure size 640x480 with 1 Axes>"
      ]
     },
     "metadata": {},
     "output_type": "display_data"
    }
   ],
   "source": [
    "dft[dft['Age'] != np.nan]['Age'].hist(bins=20, rwidth=0.9)\n",
    "plt.title('Distribution of Age variable without NaNs')\n",
    "plt.xlabel('Age')\n",
    "plt.ylabel('Count')\n",
    "plt.show()"
   ]
  },
  {
   "cell_type": "markdown",
   "id": "5f0f523a",
   "metadata": {},
   "source": [
    "Now fill the missing values with the median."
   ]
  },
  {
   "cell_type": "code",
   "execution_count": 64,
   "id": "16cfcea3",
   "metadata": {},
   "outputs": [
    {
     "data": {
      "image/png": "[encoded data removed]",
      "text/plain": [
       "<Figure size 640x480 with 1 Axes>"
      ]
     },
     "metadata": {},
     "output_type": "display_data"
    }
   ],
   "source": [
    "plt.hist(dft['Age'].fillna(dft['Age'].median()), bins=20, rwidth=0.9)\n",
    "plt.title('Distribution of Age variable with NaNs set to median')\n",
    "plt.xlabel('Age')\n",
    "plt.ylabel('Count')\n",
    "plt.show()"
   ]
  },
  {
   "cell_type": "markdown",
   "id": "17945bb2",
   "metadata": {},
   "source": [
    "Clearly setting the missing values to the median is a bad idea (in this case). Why?"
   ]
  },
  {
   "cell_type": "markdown",
   "id": "6a769e6f",
   "metadata": {},
   "source": [
    "It is possible to use a random variable of some sort instead of a single value.\n",
    "\n",
    "Here we use a normally distributed random variable. The mean and standard deviation are taken from the original distribution\n",
    "\n",
    "Compare the result to the original distribution above."
   ]
  },
  {
   "cell_type": "code",
   "execution_count": 65,
   "id": "95ba04d4",
   "metadata": {},
   "outputs": [
    {
     "data": {
      "image/png": "[encoded data removed]",
      "text/plain": [
       "<Figure size 640x480 with 1 Axes>"
      ]
     },
     "metadata": {},
     "output_type": "display_data"
    }
   ],
   "source": [
    "# Luckily for us median and std ignore nan values\n",
    "age_median = dft['Age'].median()\n",
    "age_std = dft['Age'].std()\n",
    "# Notice the following:\n",
    "#     - Nested list comprehension applying a round() function to each value\n",
    "#     - if else in list comprehension. We need to make sure ages are not negative.\n",
    "random_ages = pd.Series([x if x > 0 else x * -1 for x in [round(x) for x in np.random.normal(age_median, age_std, len(dft))]])\n",
    "plt.hist(dft['Age'].fillna(random_ages), bins=20, rwidth=0.9)\n",
    "\n",
    "plt.title('Distribution of Age variable with NaNs set to normally distributed random age')\n",
    "plt.xlabel('Age')\n",
    "plt.ylabel('Count')\n",
    "plt.show()"
   ]
  }
 ],
 "metadata": {
  "kernelspec": {
   "display_name": ".venv",
   "language": "python",
   "name": "python3"
  },
  "language_info": {
   "codemirror_mode": {
    "name": "ipython",
    "version": 3
   },
   "file_extension": ".py",
   "mimetype": "text/x-python",
   "name": "python",
   "nbconvert_exporter": "python",
   "pygments_lexer": "ipython3",
   "version": "3.13.3"
  }
 },
 "nbformat": 4,
 "nbformat_minor": 5
}
